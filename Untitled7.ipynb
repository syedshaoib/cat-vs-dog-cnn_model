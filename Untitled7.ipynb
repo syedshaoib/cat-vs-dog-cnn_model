{
 "cells": [
  {
   "cell_type": "code",
   "execution_count": 1,
   "id": "85ca1d24",
   "metadata": {},
   "outputs": [],
   "source": [
    "import tensorflow as tf\n",
    "from keras.preprocessing.image import ImageDataGenerator"
   ]
  },
  {
   "cell_type": "code",
   "execution_count": 2,
   "id": "3c48af3c",
   "metadata": {},
   "outputs": [
    {
     "name": "stdout",
     "output_type": "stream",
     "text": [
      "Found 7999 images belonging to 2 classes.\n"
     ]
    }
   ],
   "source": [
    "train_datagen = ImageDataGenerator(rescale = 1./255,\n",
    "                                   shear_range = 0.2,\n",
    "                                   zoom_range = 0.2,\n",
    "                                   validation_split=0.6,\n",
    "                                   horizontal_flip = True)\n",
    "training_set = train_datagen.flow_from_directory('dataset/training_set',\n",
    "                                                 target_size = (64, 64),\n",
    "                                                 batch_size = 32,\n",
    "                                                 class_mode = 'binary')"
   ]
  },
  {
   "cell_type": "code",
   "execution_count": 3,
   "id": "a9f5f6df",
   "metadata": {},
   "outputs": [
    {
     "name": "stdout",
     "output_type": "stream",
     "text": [
      "Found 2000 images belonging to 2 classes.\n"
     ]
    }
   ],
   "source": [
    "train_datagen = ImageDataGenerator(rescale = 1./255,\n",
    "                                   shear_range = 0.2,\n",
    "                                   zoom_range = 0.2,\n",
    "                                   horizontal_flip = True)\n",
    "test_set = train_datagen.flow_from_directory('dataset/test_set',\n",
    "                                                 target_size = (64, 64),\n",
    "                                                 batch_size = 32,\n",
    "                                                 class_mode = 'binary')"
   ]
  },
  {
   "cell_type": "code",
   "execution_count": 4,
   "id": "0ed9edd5",
   "metadata": {},
   "outputs": [],
   "source": [
    "cnn = tf.keras.models.Sequential()\n",
    "cnn.add(tf.keras.layers.Conv2D(filters=32, kernel_size=3, activation='relu', input_shape=[64, 64, 3]))\n",
    "cnn.add(tf.keras.layers.MaxPool2D(pool_size=2, strides=2))\n",
    "cnn.add(tf.keras.layers.Conv2D(filters=32, kernel_size=3, activation='relu'))\n",
    "cnn.add(tf.keras.layers.MaxPool2D(pool_size=2, strides=2))\n",
    "cnn.add(tf.keras.layers.Flatten())\n",
    "cnn.add(tf.keras.layers.Dense(units=128, activation='relu'))\n",
    "cnn.add(tf.keras.layers.Dense(units=1, activation='sigmoid'))"
   ]
  },
  {
   "cell_type": "code",
   "execution_count": 5,
   "id": "6fddbd71",
   "metadata": {},
   "outputs": [],
   "source": [
    "cnn.compile(optimizer = 'adam', loss = 'binary_crossentropy', metrics = ['accuracy'])"
   ]
  },
  {
   "cell_type": "code",
   "execution_count": 6,
   "id": "f2b0f8fb",
   "metadata": {},
   "outputs": [
    {
     "name": "stdout",
     "output_type": "stream",
     "text": [
      "Epoch 1/25\n",
      "250/250 [==============================] - 330s 1s/step - loss: 0.6420 - accuracy: 0.6310 - val_loss: 0.6051 - val_accuracy: 0.6735\n",
      "Epoch 2/25\n",
      "250/250 [==============================] - 95s 377ms/step - loss: 0.5697 - accuracy: 0.7065 - val_loss: 0.5454 - val_accuracy: 0.7415\n",
      "Epoch 3/25\n",
      "250/250 [==============================] - 95s 380ms/step - loss: 0.5455 - accuracy: 0.7226 - val_loss: 0.5282 - val_accuracy: 0.7370\n",
      "Epoch 4/25\n",
      "250/250 [==============================] - 88s 351ms/step - loss: 0.5156 - accuracy: 0.7430 - val_loss: 0.5311 - val_accuracy: 0.7365\n",
      "Epoch 5/25\n",
      "250/250 [==============================] - 52s 208ms/step - loss: 0.4949 - accuracy: 0.7530 - val_loss: 0.5036 - val_accuracy: 0.7680\n",
      "Epoch 6/25\n",
      "250/250 [==============================] - 52s 206ms/step - loss: 0.4724 - accuracy: 0.7716 - val_loss: 0.4847 - val_accuracy: 0.7710\n",
      "Epoch 7/25\n",
      "250/250 [==============================] - 49s 197ms/step - loss: 0.4669 - accuracy: 0.7777 - val_loss: 0.4911 - val_accuracy: 0.7695\n",
      "Epoch 8/25\n",
      "250/250 [==============================] - 50s 198ms/step - loss: 0.4364 - accuracy: 0.7932 - val_loss: 0.5336 - val_accuracy: 0.7460\n",
      "Epoch 9/25\n",
      "250/250 [==============================] - 50s 201ms/step - loss: 0.4261 - accuracy: 0.7971 - val_loss: 0.4753 - val_accuracy: 0.7820\n",
      "Epoch 10/25\n",
      "250/250 [==============================] - 52s 210ms/step - loss: 0.4094 - accuracy: 0.8090 - val_loss: 0.4816 - val_accuracy: 0.7770\n",
      "Epoch 11/25\n",
      "250/250 [==============================] - 50s 200ms/step - loss: 0.3998 - accuracy: 0.8200 - val_loss: 0.4544 - val_accuracy: 0.8000\n",
      "Epoch 12/25\n",
      "250/250 [==============================] - 52s 208ms/step - loss: 0.3843 - accuracy: 0.8239 - val_loss: 0.4766 - val_accuracy: 0.7890\n",
      "Epoch 13/25\n",
      "250/250 [==============================] - 52s 209ms/step - loss: 0.3703 - accuracy: 0.8294 - val_loss: 0.4666 - val_accuracy: 0.7930\n",
      "Epoch 14/25\n",
      "250/250 [==============================] - 52s 209ms/step - loss: 0.3593 - accuracy: 0.8397 - val_loss: 0.4529 - val_accuracy: 0.7975\n",
      "Epoch 15/25\n",
      "250/250 [==============================] - 50s 200ms/step - loss: 0.3401 - accuracy: 0.8499 - val_loss: 0.4748 - val_accuracy: 0.7865\n",
      "Epoch 16/25\n",
      "250/250 [==============================] - 50s 202ms/step - loss: 0.3391 - accuracy: 0.8485 - val_loss: 0.4638 - val_accuracy: 0.7935\n",
      "Epoch 17/25\n",
      "250/250 [==============================] - 53s 212ms/step - loss: 0.3291 - accuracy: 0.8572 - val_loss: 0.4726 - val_accuracy: 0.7950\n",
      "Epoch 18/25\n",
      "250/250 [==============================] - 51s 203ms/step - loss: 0.3081 - accuracy: 0.8626 - val_loss: 0.4749 - val_accuracy: 0.8000\n",
      "Epoch 19/25\n",
      "250/250 [==============================] - 50s 200ms/step - loss: 0.2967 - accuracy: 0.8750 - val_loss: 0.4986 - val_accuracy: 0.7955\n",
      "Epoch 20/25\n",
      "250/250 [==============================] - 51s 204ms/step - loss: 0.2890 - accuracy: 0.8764 - val_loss: 0.4808 - val_accuracy: 0.7935\n",
      "Epoch 21/25\n",
      "250/250 [==============================] - 92s 369ms/step - loss: 0.2785 - accuracy: 0.8819 - val_loss: 0.5056 - val_accuracy: 0.7960\n",
      "Epoch 22/25\n",
      "250/250 [==============================] - 97s 388ms/step - loss: 0.2660 - accuracy: 0.8855 - val_loss: 0.4996 - val_accuracy: 0.8045\n",
      "Epoch 23/25\n",
      "250/250 [==============================] - 94s 374ms/step - loss: 0.2539 - accuracy: 0.8937 - val_loss: 0.4960 - val_accuracy: 0.8035\n",
      "Epoch 24/25\n",
      "250/250 [==============================] - 90s 359ms/step - loss: 0.2327 - accuracy: 0.9056 - val_loss: 0.5223 - val_accuracy: 0.7915\n",
      "Epoch 25/25\n",
      "250/250 [==============================] - 51s 204ms/step - loss: 0.2256 - accuracy: 0.9074 - val_loss: 0.5079 - val_accuracy: 0.8040\n"
     ]
    },
    {
     "data": {
      "text/plain": [
       "<keras.callbacks.History at 0x265f4860b50>"
      ]
     },
     "execution_count": 6,
     "metadata": {},
     "output_type": "execute_result"
    }
   ],
   "source": [
    "cnn.fit(x = training_set, validation_data = test_set, epochs = 25)"
   ]
  },
  {
   "cell_type": "code",
   "execution_count": 35,
   "id": "222cb5a5",
   "metadata": {},
   "outputs": [],
   "source": [
    "import numpy as np\n",
    "from keras.preprocessing import image\n",
    "test_image = image.load_img('dataset/single_prediction/dog.10.jpg', target_size = (64, 64))\n",
    "test_image = image.img_to_array(test_image)\n",
    "test_image = np.expand_dims(test_image, axis = 0)\n",
    "result = cnn.predict(test_image)\n",
    "training_set.class_indices\n",
    "if result[0][0] == 1.:\n",
    "  prediction = 'dog'\n",
    "else:\n",
    "  prediction = 'cat'"
   ]
  },
  {
   "cell_type": "code",
   "execution_count": 36,
   "id": "c580bafb",
   "metadata": {},
   "outputs": [
    {
     "data": {
      "text/plain": [
       "array([[1.]], dtype=float32)"
      ]
     },
     "execution_count": 36,
     "metadata": {},
     "output_type": "execute_result"
    }
   ],
   "source": [
    "result"
   ]
  },
  {
   "cell_type": "code",
   "execution_count": 37,
   "id": "ea4ae9d1",
   "metadata": {},
   "outputs": [
    {
     "data": {
      "text/plain": [
       "'dog'"
      ]
     },
     "execution_count": 37,
     "metadata": {},
     "output_type": "execute_result"
    }
   ],
   "source": [
    "  prediction "
   ]
  },
  {
   "cell_type": "code",
   "execution_count": null,
   "id": "a3bee291",
   "metadata": {},
   "outputs": [],
   "source": []
  },
  {
   "cell_type": "code",
   "execution_count": null,
   "id": "f760d6bd",
   "metadata": {},
   "outputs": [],
   "source": []
  }
 ],
 "metadata": {
  "kernelspec": {
   "display_name": "Python 3 (ipykernel)",
   "language": "python",
   "name": "python3"
  },
  "language_info": {
   "codemirror_mode": {
    "name": "ipython",
    "version": 3
   },
   "file_extension": ".py",
   "mimetype": "text/x-python",
   "name": "python",
   "nbconvert_exporter": "python",
   "pygments_lexer": "ipython3",
   "version": "3.9.7"
  }
 },
 "nbformat": 4,
 "nbformat_minor": 5
}
